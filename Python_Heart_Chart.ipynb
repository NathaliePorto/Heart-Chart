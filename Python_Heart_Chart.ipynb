{
  "nbformat": 4,
  "nbformat_minor": 0,
  "metadata": {
    "colab": {
      "name": "Python - Heart Chart",
      "provenance": [],
      "collapsed_sections": [],
      "authorship_tag": "ABX9TyOWWLBQZW1iuhehsT44Biz4",
      "include_colab_link": true
    },
    "kernelspec": {
      "name": "python3",
      "display_name": "Python 3"
    },
    "language_info": {
      "name": "python"
    }
  },
  "cells": [
    {
      "cell_type": "markdown",
      "metadata": {
        "id": "view-in-github",
        "colab_type": "text"
      },
      "source": [
        "<a href=\"https://colab.research.google.com/github/NathaliePorto/Heart-Chart/blob/main/Python_Heart_Chart.ipynb\" target=\"_parent\"><img src=\"https://colab.research.google.com/assets/colab-badge.svg\" alt=\"Open In Colab\"/></a>"
      ]
    },
    {
      "cell_type": "markdown",
      "source": [
        "Heart Chart"
      ],
      "metadata": {
        "id": "cjsQPr_BL4I4"
      }
    },
    {
      "cell_type": "code",
      "execution_count": null,
      "metadata": {
        "id": "71jpfX2PpgB0"
      },
      "outputs": [],
      "source": [
        "import matplotlib.pyplot as mat\n",
        "import numpy as np"
      ]
    },
    {
      "cell_type": "code",
      "source": [
        "t = np.linspace(0,2200,100000)\n",
        "print(t)"
      ],
      "metadata": {
        "id": "Ale4jh9opz2l"
      },
      "execution_count": null,
      "outputs": []
    },
    {
      "cell_type": "code",
      "source": [
        "x = 16*np.sin(t)**3+25\n",
        "y = 13*np.cos(t) - 5*np.cos(2*t) - 2*np.cos(3*t) - np.cos(4*t) + 20"
      ],
      "metadata": {
        "id": "wA9phaTkp2Fk"
      },
      "execution_count": null,
      "outputs": []
    },
    {
      "cell_type": "code",
      "source": [
        "mat.figure(figsize=(7,5))\n",
        "mat.plot(x,y,color=\"#DBB4AD\",linewidth=5)\n",
        "mat.text(18,19,\"We Love Python\", fontsize=20, color=\"#A2AD91\")"
      ],
      "metadata": {
        "colab": {
          "base_uri": "https://localhost:8080/",
          "height": 337
        },
        "id": "8SLhuDqop6rD",
        "outputId": "6f0cc6b3-0bd9-466f-a22d-1acaba895ffc"
      },
      "execution_count": null,
      "outputs": [
        {
          "output_type": "execute_result",
          "data": {
            "text/plain": [
              "Text(18, 19, 'We Love Python')"
            ]
          },
          "metadata": {},
          "execution_count": 11
        },
        {
          "output_type": "display_data",
          "data": {
            "image/png": "[encoded data removed]",
            "text/plain": [
              "<Figure size 504x360 with 1 Axes>"
            ]
          },
          "metadata": {
            "needs_background": "light"
          }
        }
      ]
    },
    {
      "cell_type": "markdown",
      "source": [
        "The original code is from Mohd Danish Ansari - https://www.linkedin.com/in/danishansari09/"
      ],
      "metadata": {
        "id": "lQ9aTckNLU49"
      }
    }
  ]
}